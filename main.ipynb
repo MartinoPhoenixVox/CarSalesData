{
 "cells": [
  {
   "cell_type": "code",
   "execution_count": 3,
   "metadata": {},
   "outputs": [],
   "source": [
    "import pandas as pd \n",
    "import matplotlib.pyplot as plt "
   ]
  },
  {
   "cell_type": "code",
   "execution_count": 4,
   "metadata": {},
   "outputs": [
    {
     "data": {
      "text/html": [
       "<div>\n",
       "<style scoped>\n",
       "    .dataframe tbody tr th:only-of-type {\n",
       "        vertical-align: middle;\n",
       "    }\n",
       "\n",
       "    .dataframe tbody tr th {\n",
       "        vertical-align: top;\n",
       "    }\n",
       "\n",
       "    .dataframe thead th {\n",
       "        text-align: right;\n",
       "    }\n",
       "</style>\n",
       "<table border=\"1\" class=\"dataframe\">\n",
       "  <thead>\n",
       "    <tr style=\"text-align: right;\">\n",
       "      <th></th>\n",
       "      <th>Date</th>\n",
       "      <th>Salesperson</th>\n",
       "      <th>Customer Name</th>\n",
       "      <th>Car Make</th>\n",
       "      <th>Car Model</th>\n",
       "      <th>Car Year</th>\n",
       "      <th>Sale Price</th>\n",
       "      <th>Commission Rate</th>\n",
       "      <th>Commission Earned</th>\n",
       "    </tr>\n",
       "  </thead>\n",
       "  <tbody>\n",
       "    <tr>\n",
       "      <th>0</th>\n",
       "      <td>2022-08-01</td>\n",
       "      <td>Monica Moore MD</td>\n",
       "      <td>Mary Butler</td>\n",
       "      <td>Nissan</td>\n",
       "      <td>Altima</td>\n",
       "      <td>2018</td>\n",
       "      <td>15983</td>\n",
       "      <td>0.070495</td>\n",
       "      <td>1126.73</td>\n",
       "    </tr>\n",
       "    <tr>\n",
       "      <th>1</th>\n",
       "      <td>2023-03-15</td>\n",
       "      <td>Roberto Rose</td>\n",
       "      <td>Richard Pierce</td>\n",
       "      <td>Nissan</td>\n",
       "      <td>F-150</td>\n",
       "      <td>2016</td>\n",
       "      <td>38474</td>\n",
       "      <td>0.134439</td>\n",
       "      <td>5172.40</td>\n",
       "    </tr>\n",
       "    <tr>\n",
       "      <th>2</th>\n",
       "      <td>2023-04-29</td>\n",
       "      <td>Ashley Ramos</td>\n",
       "      <td>Sandra Moore</td>\n",
       "      <td>Ford</td>\n",
       "      <td>Civic</td>\n",
       "      <td>2016</td>\n",
       "      <td>33340</td>\n",
       "      <td>0.114536</td>\n",
       "      <td>3818.63</td>\n",
       "    </tr>\n",
       "    <tr>\n",
       "      <th>3</th>\n",
       "      <td>2022-09-04</td>\n",
       "      <td>Patrick Harris</td>\n",
       "      <td>Johnny Scott</td>\n",
       "      <td>Ford</td>\n",
       "      <td>Altima</td>\n",
       "      <td>2013</td>\n",
       "      <td>41937</td>\n",
       "      <td>0.092191</td>\n",
       "      <td>3866.20</td>\n",
       "    </tr>\n",
       "    <tr>\n",
       "      <th>4</th>\n",
       "      <td>2022-06-16</td>\n",
       "      <td>Eric Lopez</td>\n",
       "      <td>Vanessa Jones</td>\n",
       "      <td>Honda</td>\n",
       "      <td>Silverado</td>\n",
       "      <td>2022</td>\n",
       "      <td>20256</td>\n",
       "      <td>0.113490</td>\n",
       "      <td>2298.85</td>\n",
       "    </tr>\n",
       "    <tr>\n",
       "      <th>...</th>\n",
       "      <td>...</td>\n",
       "      <td>...</td>\n",
       "      <td>...</td>\n",
       "      <td>...</td>\n",
       "      <td>...</td>\n",
       "      <td>...</td>\n",
       "      <td>...</td>\n",
       "      <td>...</td>\n",
       "      <td>...</td>\n",
       "    </tr>\n",
       "    <tr>\n",
       "      <th>2499995</th>\n",
       "      <td>2022-05-26</td>\n",
       "      <td>Isabella Moore</td>\n",
       "      <td>Shirley Lee</td>\n",
       "      <td>Chevrolet</td>\n",
       "      <td>Silverado</td>\n",
       "      <td>2021</td>\n",
       "      <td>49823</td>\n",
       "      <td>0.062977</td>\n",
       "      <td>3137.70</td>\n",
       "    </tr>\n",
       "    <tr>\n",
       "      <th>2499996</th>\n",
       "      <td>2022-10-03</td>\n",
       "      <td>Kimberly Snow</td>\n",
       "      <td>Tara Rodgers</td>\n",
       "      <td>Ford</td>\n",
       "      <td>F-150</td>\n",
       "      <td>2022</td>\n",
       "      <td>18803</td>\n",
       "      <td>0.068339</td>\n",
       "      <td>1284.97</td>\n",
       "    </tr>\n",
       "    <tr>\n",
       "      <th>2499997</th>\n",
       "      <td>2022-06-07</td>\n",
       "      <td>Jessica Young</td>\n",
       "      <td>Jennifer Moore</td>\n",
       "      <td>Chevrolet</td>\n",
       "      <td>Civic</td>\n",
       "      <td>2010</td>\n",
       "      <td>30863</td>\n",
       "      <td>0.088915</td>\n",
       "      <td>2744.19</td>\n",
       "    </tr>\n",
       "    <tr>\n",
       "      <th>2499998</th>\n",
       "      <td>2023-02-15</td>\n",
       "      <td>Donald Barber</td>\n",
       "      <td>Ashley Diaz</td>\n",
       "      <td>Honda</td>\n",
       "      <td>Silverado</td>\n",
       "      <td>2014</td>\n",
       "      <td>26125</td>\n",
       "      <td>0.088260</td>\n",
       "      <td>2305.80</td>\n",
       "    </tr>\n",
       "    <tr>\n",
       "      <th>2499999</th>\n",
       "      <td>2023-03-24</td>\n",
       "      <td>Kayla Fowler</td>\n",
       "      <td>Nathan Thompson</td>\n",
       "      <td>Honda</td>\n",
       "      <td>Civic</td>\n",
       "      <td>2010</td>\n",
       "      <td>20762</td>\n",
       "      <td>0.137105</td>\n",
       "      <td>2846.57</td>\n",
       "    </tr>\n",
       "  </tbody>\n",
       "</table>\n",
       "<p>2500000 rows × 9 columns</p>\n",
       "</div>"
      ],
      "text/plain": [
       "               Date      Salesperson    Customer Name   Car Make  Car Model  \\\n",
       "0        2022-08-01  Monica Moore MD      Mary Butler     Nissan     Altima   \n",
       "1        2023-03-15     Roberto Rose   Richard Pierce     Nissan      F-150   \n",
       "2        2023-04-29     Ashley Ramos     Sandra Moore       Ford      Civic   \n",
       "3        2022-09-04   Patrick Harris     Johnny Scott       Ford     Altima   \n",
       "4        2022-06-16       Eric Lopez    Vanessa Jones      Honda  Silverado   \n",
       "...             ...              ...              ...        ...        ...   \n",
       "2499995  2022-05-26   Isabella Moore      Shirley Lee  Chevrolet  Silverado   \n",
       "2499996  2022-10-03    Kimberly Snow     Tara Rodgers       Ford      F-150   \n",
       "2499997  2022-06-07    Jessica Young   Jennifer Moore  Chevrolet      Civic   \n",
       "2499998  2023-02-15    Donald Barber      Ashley Diaz      Honda  Silverado   \n",
       "2499999  2023-03-24     Kayla Fowler  Nathan Thompson      Honda      Civic   \n",
       "\n",
       "         Car Year  Sale Price  Commission Rate  Commission Earned  \n",
       "0            2018       15983         0.070495            1126.73  \n",
       "1            2016       38474         0.134439            5172.40  \n",
       "2            2016       33340         0.114536            3818.63  \n",
       "3            2013       41937         0.092191            3866.20  \n",
       "4            2022       20256         0.113490            2298.85  \n",
       "...           ...         ...              ...                ...  \n",
       "2499995      2021       49823         0.062977            3137.70  \n",
       "2499996      2022       18803         0.068339            1284.97  \n",
       "2499997      2010       30863         0.088915            2744.19  \n",
       "2499998      2014       26125         0.088260            2305.80  \n",
       "2499999      2010       20762         0.137105            2846.57  \n",
       "\n",
       "[2500000 rows x 9 columns]"
      ]
     },
     "execution_count": 4,
     "metadata": {},
     "output_type": "execute_result"
    }
   ],
   "source": [
    "df = pd.read_csv(r'D:\\nam_3\\data_mining\\BTL\\car_sales_data.csv')\n",
    "df"
   ]
  },
  {
   "cell_type": "code",
   "execution_count": 5,
   "metadata": {},
   "outputs": [
    {
     "name": "stdout",
     "output_type": "stream",
     "text": [
      "<class 'pandas.core.frame.DataFrame'>\n",
      "RangeIndex: 2500000 entries, 0 to 2499999\n",
      "Data columns (total 9 columns):\n",
      " #   Column             Dtype  \n",
      "---  ------             -----  \n",
      " 0   Date               object \n",
      " 1   Salesperson        object \n",
      " 2   Customer Name      object \n",
      " 3   Car Make           object \n",
      " 4   Car Model          object \n",
      " 5   Car Year           int64  \n",
      " 6   Sale Price         int64  \n",
      " 7   Commission Rate    float64\n",
      " 8   Commission Earned  float64\n",
      "dtypes: float64(2), int64(2), object(5)\n",
      "memory usage: 171.7+ MB\n"
     ]
    }
   ],
   "source": [
    "df.info()"
   ]
  },
  {
   "cell_type": "code",
   "execution_count": 6,
   "metadata": {},
   "outputs": [
    {
     "data": {
      "text/plain": [
       "0"
      ]
     },
     "execution_count": 6,
     "metadata": {},
     "output_type": "execute_result"
    }
   ],
   "source": [
    "#   kiểm tra dataframe có hàng nào trùng không\n",
    "df.duplicated().sum()"
   ]
  },
  {
   "cell_type": "code",
   "execution_count": 7,
   "metadata": {},
   "outputs": [],
   "source": [
    "#   xóa các hàng bị trùng\n",
    "df = df.drop_duplicates()"
   ]
  },
  {
   "cell_type": "code",
   "execution_count": 23,
   "metadata": {},
   "outputs": [
    {
     "data": {
      "text/plain": [
       "550551    2022-05-01\n",
       "1875673   2022-05-01\n",
       "183953    2022-05-01\n",
       "1038507   2022-05-01\n",
       "1774105   2022-05-01\n",
       "             ...    \n",
       "824103    2023-05-01\n",
       "1880469   2023-05-01\n",
       "909831    2023-05-01\n",
       "1384426   2023-05-01\n",
       "213312    2023-05-01\n",
       "Name: Date, Length: 2500000, dtype: datetime64[ns]"
      ]
     },
     "execution_count": 23,
     "metadata": {},
     "output_type": "execute_result"
    }
   ],
   "source": [
    "#   check date xem có hợp lệ không\n",
    "pd.to_datetime(df['Date']).sort_values()"
   ]
  },
  {
   "cell_type": "code",
   "execution_count": 8,
   "metadata": {},
   "outputs": [
    {
     "data": {
      "text/html": [
       "<div>\n",
       "<style scoped>\n",
       "    .dataframe tbody tr th:only-of-type {\n",
       "        vertical-align: middle;\n",
       "    }\n",
       "\n",
       "    .dataframe tbody tr th {\n",
       "        vertical-align: top;\n",
       "    }\n",
       "\n",
       "    .dataframe thead th {\n",
       "        text-align: right;\n",
       "    }\n",
       "</style>\n",
       "<table border=\"1\" class=\"dataframe\">\n",
       "  <thead>\n",
       "    <tr style=\"text-align: right;\">\n",
       "      <th></th>\n",
       "      <th>Date</th>\n",
       "      <th>Salesperson</th>\n",
       "      <th>Customer Name</th>\n",
       "      <th>Car Make</th>\n",
       "      <th>Car Model</th>\n",
       "      <th>Car Year</th>\n",
       "      <th>Sale Price</th>\n",
       "      <th>Commission Rate</th>\n",
       "      <th>Commission Earned</th>\n",
       "      <th>Year</th>\n",
       "      <th>Month</th>\n",
       "    </tr>\n",
       "  </thead>\n",
       "  <tbody>\n",
       "    <tr>\n",
       "      <th>0</th>\n",
       "      <td>2022-08-01</td>\n",
       "      <td>Monica Moore MD</td>\n",
       "      <td>Mary Butler</td>\n",
       "      <td>Nissan</td>\n",
       "      <td>Altima</td>\n",
       "      <td>2018</td>\n",
       "      <td>15983</td>\n",
       "      <td>0.070495</td>\n",
       "      <td>1126.73</td>\n",
       "      <td>2022</td>\n",
       "      <td>8</td>\n",
       "    </tr>\n",
       "    <tr>\n",
       "      <th>1</th>\n",
       "      <td>2023-03-15</td>\n",
       "      <td>Roberto Rose</td>\n",
       "      <td>Richard Pierce</td>\n",
       "      <td>Nissan</td>\n",
       "      <td>F-150</td>\n",
       "      <td>2016</td>\n",
       "      <td>38474</td>\n",
       "      <td>0.134439</td>\n",
       "      <td>5172.40</td>\n",
       "      <td>2023</td>\n",
       "      <td>3</td>\n",
       "    </tr>\n",
       "    <tr>\n",
       "      <th>2</th>\n",
       "      <td>2023-04-29</td>\n",
       "      <td>Ashley Ramos</td>\n",
       "      <td>Sandra Moore</td>\n",
       "      <td>Ford</td>\n",
       "      <td>Civic</td>\n",
       "      <td>2016</td>\n",
       "      <td>33340</td>\n",
       "      <td>0.114536</td>\n",
       "      <td>3818.63</td>\n",
       "      <td>2023</td>\n",
       "      <td>4</td>\n",
       "    </tr>\n",
       "    <tr>\n",
       "      <th>3</th>\n",
       "      <td>2022-09-04</td>\n",
       "      <td>Patrick Harris</td>\n",
       "      <td>Johnny Scott</td>\n",
       "      <td>Ford</td>\n",
       "      <td>Altima</td>\n",
       "      <td>2013</td>\n",
       "      <td>41937</td>\n",
       "      <td>0.092191</td>\n",
       "      <td>3866.20</td>\n",
       "      <td>2022</td>\n",
       "      <td>9</td>\n",
       "    </tr>\n",
       "    <tr>\n",
       "      <th>4</th>\n",
       "      <td>2022-06-16</td>\n",
       "      <td>Eric Lopez</td>\n",
       "      <td>Vanessa Jones</td>\n",
       "      <td>Honda</td>\n",
       "      <td>Silverado</td>\n",
       "      <td>2022</td>\n",
       "      <td>20256</td>\n",
       "      <td>0.113490</td>\n",
       "      <td>2298.85</td>\n",
       "      <td>2022</td>\n",
       "      <td>6</td>\n",
       "    </tr>\n",
       "  </tbody>\n",
       "</table>\n",
       "</div>"
      ],
      "text/plain": [
       "        Date      Salesperson   Customer Name Car Make  Car Model  Car Year  \\\n",
       "0 2022-08-01  Monica Moore MD     Mary Butler   Nissan     Altima      2018   \n",
       "1 2023-03-15     Roberto Rose  Richard Pierce   Nissan      F-150      2016   \n",
       "2 2023-04-29     Ashley Ramos    Sandra Moore     Ford      Civic      2016   \n",
       "3 2022-09-04   Patrick Harris    Johnny Scott     Ford     Altima      2013   \n",
       "4 2022-06-16       Eric Lopez   Vanessa Jones    Honda  Silverado      2022   \n",
       "\n",
       "   Sale Price  Commission Rate  Commission Earned  Year  Month  \n",
       "0       15983         0.070495            1126.73  2022      8  \n",
       "1       38474         0.134439            5172.40  2023      3  \n",
       "2       33340         0.114536            3818.63  2023      4  \n",
       "3       41937         0.092191            3866.20  2022      9  \n",
       "4       20256         0.113490            2298.85  2022      6  "
      ]
     },
     "execution_count": 8,
     "metadata": {},
     "output_type": "execute_result"
    }
   ],
   "source": [
    "# tách 'Date' ra thành Year, Month, Day\n",
    "df['Date'] = pd.to_datetime(df['Date'])\n",
    "df['Year'] = df.Date.dt.year\n",
    "df['Month'] = df.Date.dt.month\n",
    "df.head()"
   ]
  },
  {
   "cell_type": "code",
   "execution_count": 22,
   "metadata": {},
   "outputs": [
    {
     "data": {
      "text/plain": [
       "1626552     1\n",
       "233422      1\n",
       "2353814     1\n",
       "1637183     1\n",
       "2051058     1\n",
       "           ..\n",
       "2324852    12\n",
       "1688578    12\n",
       "1688577    12\n",
       "1293171    12\n",
       "936965     12\n",
       "Name: Month, Length: 2500000, dtype: int32"
      ]
     },
     "execution_count": 22,
     "metadata": {},
     "output_type": "execute_result"
    }
   ],
   "source": [
    "df['Month'].sort_values()"
   ]
  },
  {
   "cell_type": "code",
   "execution_count": 9,
   "metadata": {},
   "outputs": [
    {
     "data": {
      "text/plain": [
       "Date                 0\n",
       "Salesperson          0\n",
       "Customer Name        0\n",
       "Car Make             0\n",
       "Car Model            0\n",
       "Car Year             0\n",
       "Sale Price           0\n",
       "Commission Rate      0\n",
       "Commission Earned    0\n",
       "Year                 0\n",
       "Month                0\n",
       "dtype: int64"
      ]
     },
     "execution_count": 9,
     "metadata": {},
     "output_type": "execute_result"
    }
   ],
   "source": [
    "#   check NAN value\n",
    "df.isnull().sum()"
   ]
  },
  {
   "cell_type": "code",
   "execution_count": 10,
   "metadata": {},
   "outputs": [
    {
     "data": {
      "text/html": [
       "<div>\n",
       "<style scoped>\n",
       "    .dataframe tbody tr th:only-of-type {\n",
       "        vertical-align: middle;\n",
       "    }\n",
       "\n",
       "    .dataframe tbody tr th {\n",
       "        vertical-align: top;\n",
       "    }\n",
       "\n",
       "    .dataframe thead th {\n",
       "        text-align: right;\n",
       "    }\n",
       "</style>\n",
       "<table border=\"1\" class=\"dataframe\">\n",
       "  <thead>\n",
       "    <tr style=\"text-align: right;\">\n",
       "      <th></th>\n",
       "      <th>Date</th>\n",
       "      <th>Car Year</th>\n",
       "      <th>Sale Price</th>\n",
       "      <th>Commission Rate</th>\n",
       "      <th>Commission Earned</th>\n",
       "      <th>Year</th>\n",
       "      <th>Month</th>\n",
       "    </tr>\n",
       "  </thead>\n",
       "  <tbody>\n",
       "    <tr>\n",
       "      <th>count</th>\n",
       "      <td>2500000</td>\n",
       "      <td>2.500000e+06</td>\n",
       "      <td>2.500000e+06</td>\n",
       "      <td>2.500000e+06</td>\n",
       "      <td>2.500000e+06</td>\n",
       "      <td>2.500000e+06</td>\n",
       "      <td>2.500000e+06</td>\n",
       "    </tr>\n",
       "    <tr>\n",
       "      <th>mean</th>\n",
       "      <td>2022-10-30 10:01:32.632321024</td>\n",
       "      <td>2.015996e+03</td>\n",
       "      <td>3.001218e+04</td>\n",
       "      <td>9.998766e-02</td>\n",
       "      <td>3.001005e+03</td>\n",
       "      <td>2.022330e+03</td>\n",
       "      <td>6.523978e+00</td>\n",
       "    </tr>\n",
       "    <tr>\n",
       "      <th>min</th>\n",
       "      <td>2022-05-01 00:00:00</td>\n",
       "      <td>2.010000e+03</td>\n",
       "      <td>1.000000e+04</td>\n",
       "      <td>5.000014e-02</td>\n",
       "      <td>5.013400e+02</td>\n",
       "      <td>2.022000e+03</td>\n",
       "      <td>1.000000e+00</td>\n",
       "    </tr>\n",
       "    <tr>\n",
       "      <th>25%</th>\n",
       "      <td>2022-07-31 00:00:00</td>\n",
       "      <td>2.013000e+03</td>\n",
       "      <td>2.001900e+04</td>\n",
       "      <td>7.496450e-02</td>\n",
       "      <td>1.821710e+03</td>\n",
       "      <td>2.022000e+03</td>\n",
       "      <td>4.000000e+00</td>\n",
       "    </tr>\n",
       "    <tr>\n",
       "      <th>50%</th>\n",
       "      <td>2022-10-30 00:00:00</td>\n",
       "      <td>2.016000e+03</td>\n",
       "      <td>3.000600e+04</td>\n",
       "      <td>1.000058e-01</td>\n",
       "      <td>2.741910e+03</td>\n",
       "      <td>2.022000e+03</td>\n",
       "      <td>7.000000e+00</td>\n",
       "    </tr>\n",
       "    <tr>\n",
       "      <th>75%</th>\n",
       "      <td>2023-01-30 00:00:00</td>\n",
       "      <td>2.019000e+03</td>\n",
       "      <td>4.002200e+04</td>\n",
       "      <td>1.250065e-01</td>\n",
       "      <td>3.978142e+03</td>\n",
       "      <td>2.023000e+03</td>\n",
       "      <td>1.000000e+01</td>\n",
       "    </tr>\n",
       "    <tr>\n",
       "      <th>max</th>\n",
       "      <td>2023-05-01 00:00:00</td>\n",
       "      <td>2.022000e+03</td>\n",
       "      <td>5.000000e+04</td>\n",
       "      <td>1.500000e-01</td>\n",
       "      <td>7.494530e+03</td>\n",
       "      <td>2.023000e+03</td>\n",
       "      <td>1.200000e+01</td>\n",
       "    </tr>\n",
       "    <tr>\n",
       "      <th>std</th>\n",
       "      <td>NaN</td>\n",
       "      <td>3.739132e+00</td>\n",
       "      <td>1.154514e+04</td>\n",
       "      <td>2.887202e-02</td>\n",
       "      <td>1.481467e+03</td>\n",
       "      <td>4.702848e-01</td>\n",
       "      <td>3.444897e+00</td>\n",
       "    </tr>\n",
       "  </tbody>\n",
       "</table>\n",
       "</div>"
      ],
      "text/plain": [
       "                                Date      Car Year    Sale Price  \\\n",
       "count                        2500000  2.500000e+06  2.500000e+06   \n",
       "mean   2022-10-30 10:01:32.632321024  2.015996e+03  3.001218e+04   \n",
       "min              2022-05-01 00:00:00  2.010000e+03  1.000000e+04   \n",
       "25%              2022-07-31 00:00:00  2.013000e+03  2.001900e+04   \n",
       "50%              2022-10-30 00:00:00  2.016000e+03  3.000600e+04   \n",
       "75%              2023-01-30 00:00:00  2.019000e+03  4.002200e+04   \n",
       "max              2023-05-01 00:00:00  2.022000e+03  5.000000e+04   \n",
       "std                              NaN  3.739132e+00  1.154514e+04   \n",
       "\n",
       "       Commission Rate  Commission Earned          Year         Month  \n",
       "count     2.500000e+06       2.500000e+06  2.500000e+06  2.500000e+06  \n",
       "mean      9.998766e-02       3.001005e+03  2.022330e+03  6.523978e+00  \n",
       "min       5.000014e-02       5.013400e+02  2.022000e+03  1.000000e+00  \n",
       "25%       7.496450e-02       1.821710e+03  2.022000e+03  4.000000e+00  \n",
       "50%       1.000058e-01       2.741910e+03  2.022000e+03  7.000000e+00  \n",
       "75%       1.250065e-01       3.978142e+03  2.023000e+03  1.000000e+01  \n",
       "max       1.500000e-01       7.494530e+03  2.023000e+03  1.200000e+01  \n",
       "std       2.887202e-02       1.481467e+03  4.702848e-01  3.444897e+00  "
      ]
     },
     "execution_count": 10,
     "metadata": {},
     "output_type": "execute_result"
    }
   ],
   "source": [
    "df.describe()"
   ]
  },
  {
   "cell_type": "code",
   "execution_count": 11,
   "metadata": {},
   "outputs": [
    {
     "name": "stdout",
     "output_type": "stream",
     "text": [
      "<class 'pandas.core.frame.DataFrame'>\n",
      "RangeIndex: 2500000 entries, 0 to 2499999\n",
      "Data columns (total 11 columns):\n",
      " #   Column             Dtype         \n",
      "---  ------             -----         \n",
      " 0   Date               datetime64[ns]\n",
      " 1   Salesperson        object        \n",
      " 2   Customer Name      object        \n",
      " 3   Car Make           object        \n",
      " 4   Car Model          object        \n",
      " 5   Car Year           int64         \n",
      " 6   Sale Price         int64         \n",
      " 7   Commission Rate    float64       \n",
      " 8   Commission Earned  float64       \n",
      " 9   Year               int32         \n",
      " 10  Month              int32         \n",
      "dtypes: datetime64[ns](1), float64(2), int32(2), int64(2), object(4)\n",
      "memory usage: 190.7+ MB\n"
     ]
    }
   ],
   "source": [
    "df.info()"
   ]
  },
  {
   "cell_type": "code",
   "execution_count": 12,
   "metadata": {},
   "outputs": [
    {
     "data": {
      "text/plain": [
       "Car Make\n",
       "Ford         29994.461240\n",
       "Toyota       30001.989895\n",
       "Chevrolet    30015.431557\n",
       "Nissan       30016.451923\n",
       "Honda        30032.532548\n",
       "Name: Sale Price, dtype: float64"
      ]
     },
     "execution_count": 12,
     "metadata": {},
     "output_type": "execute_result"
    }
   ],
   "source": [
    "#   tính trung bình giá bán của mỗi loại xe\n",
    "avg_sale_price = df.groupby('Car Make')['Sale Price'].mean().sort_values()\n",
    "avg_sale_price\n",
    "\n",
    "#   Honda có giá bán trung bình cao nhất\n",
    "#   Ford có giá bán trung bình thấp nhất\n",
    "#   => giá trị sản xuất cao nên giá bán cao"
   ]
  },
  {
   "cell_type": "code",
   "execution_count": 13,
   "metadata": {},
   "outputs": [
    {
     "data": {
      "image/png": "[encoded data removed]",
      "text/plain": [
       "<Figure size 640x480 with 1 Axes>"
      ]
     },
     "metadata": {},
     "output_type": "display_data"
    }
   ],
   "source": [
    "#   trừu tượng hóa nó ra\n",
    "higher_price_make = avg_sale_price.idxmax()\n",
    "\n",
    "plt.plot(avg_sale_price, 'b-', label='Average Sale Price')\n",
    "plt.xlabel('Car Make')\n",
    "plt.ylabel('Average Sale Price')\n",
    "plt.title('Average Sale Price By Car Make')\n",
    "plt.show()"
   ]
  },
  {
   "cell_type": "code",
   "execution_count": 14,
   "metadata": {},
   "outputs": [
    {
     "name": "stdout",
     "output_type": "stream",
     "text": [
      "The higher price of car make is Honda\n"
     ]
    }
   ],
   "source": [
    "print(f'The higher price of car make is {higher_price_make}')"
   ]
  },
  {
   "cell_type": "code",
   "execution_count": 15,
   "metadata": {},
   "outputs": [
    {
     "data": {
      "text/plain": [
       "Customer Name\n",
       "Kimberly Figueroa DVM        503.12\n",
       "Jenny Ferrell                505.39\n",
       "Chloe Hickman                506.46\n",
       "Ariel Cline                  508.26\n",
       "Tracy Murillo                508.65\n",
       "                            ...    \n",
       "Michael Williams         2380376.66\n",
       "David Smith              2388019.37\n",
       "James Smith              2405014.38\n",
       "Michael Johnson          2598959.83\n",
       "Michael Smith            3463226.21\n",
       "Name: Commission Earned, Length: 518251, dtype: float64"
      ]
     },
     "execution_count": 15,
     "metadata": {},
     "output_type": "execute_result"
    }
   ],
   "source": [
    "#   tính tiền hoa hồng kiếm được từ mỗi tên khách hàng\n",
    "commission_earned = df.groupby('Customer Name')['Commission Earned'].sum().sort_values()\n",
    "commission_earned\n",
    "\n",
    "#   khách hàng mua nhiều nhất là Michael Smith đã mua 3463226.21\n",
    "#   khách hàng mua nhiều nhất là Kimberly Figueroa DVM đã mua 3463226.21"
   ]
  },
  {
   "cell_type": "code",
   "execution_count": 16,
   "metadata": {},
   "outputs": [
    {
     "data": {
      "text/plain": [
       "Customer Name\n",
       "Michael Williams    2380376.66\n",
       "David Smith         2388019.37\n",
       "James Smith         2405014.38\n",
       "Michael Johnson     2598959.83\n",
       "Michael Smith       3463226.21\n",
       "Name: Commission Earned, dtype: float64"
      ]
     },
     "execution_count": 16,
     "metadata": {},
     "output_type": "execute_result"
    }
   ],
   "source": [
    "#   tìm 5 khoảng hoa hồng kiếm được lớn nhất từ 5 khách hàng có mức hoa hồng cao nhất\n",
    "top_five_commission_earned = commission_earned.tail(5)\n",
    "top_five_commission_earned"
   ]
  },
  {
   "cell_type": "code",
   "execution_count": 17,
   "metadata": {},
   "outputs": [
    {
     "data": {
      "text/plain": [
       "Customer Name\n",
       "Kimberly Figueroa DVM    503.12\n",
       "Jenny Ferrell            505.39\n",
       "Chloe Hickman            506.46\n",
       "Ariel Cline              508.26\n",
       "Tracy Murillo            508.65\n",
       "Name: Commission Earned, dtype: float64"
      ]
     },
     "execution_count": 17,
     "metadata": {},
     "output_type": "execute_result"
    }
   ],
   "source": [
    "#   tìm 5 khoảng hoa hồng thấp nhất\n",
    "worst_file_commission_earned = commission_earned.head(5)\n",
    "worst_file_commission_earned"
   ]
  },
  {
   "cell_type": "code",
   "execution_count": 18,
   "metadata": {},
   "outputs": [],
   "source": [
    "#   trừu tượng hóa nó lên\n",
    "import seaborn as sns\n"
   ]
  },
  {
   "cell_type": "code",
   "execution_count": 19,
   "metadata": {},
   "outputs": [
    {
     "data": {
      "image/png": "[encoded data removed]",
      "text/plain": [
       "<Figure size 640x480 with 1 Axes>"
      ]
     },
     "metadata": {},
     "output_type": "display_data"
    }
   ],
   "source": [
    "sns.barplot(x=top_five_commission_earned.index, y=top_five_commission_earned.values, color='Blue')\n",
    "plt.xlabel('Customer Name')\n",
    "plt.ylabel('Commission Earned')\n",
    "plt.title('Top 5 Commission Earned By Customer Name')\n",
    "plt.xticks(rotation=90)\n",
    "plt.show()"
   ]
  },
  {
   "cell_type": "code",
   "execution_count": 20,
   "metadata": {},
   "outputs": [
    {
     "data": {
      "text/plain": [
       "Month\n",
       "8     30052.312136\n",
       "4     30046.320463\n",
       "12    30044.549012\n",
       "7     30026.342485\n",
       "2     30022.099481\n",
       "Name: Sale Price, dtype: float64"
      ]
     },
     "execution_count": 20,
     "metadata": {},
     "output_type": "execute_result"
    }
   ],
   "source": [
    "#   5 tháng có doanh số bán hàng tốt nhất là\n",
    "#   nhóm dataframe lại theo tháng và tính giá bán trung bình\n",
    "df_sale_month = df.groupby('Month')['Sale Price'].mean().sort_values(ascending=False)\n",
    "#   5 tháng bán chạy nhất\n",
    "df_sale_month.head()"
   ]
  },
  {
   "cell_type": "code",
   "execution_count": null,
   "metadata": {},
   "outputs": [],
   "source": []
  }
 ],
 "metadata": {
  "kernelspec": {
   "display_name": "venv",
   "language": "python",
   "name": "python3"
  },
  "language_info": {
   "codemirror_mode": {
    "name": "ipython",
    "version": 3
   },
   "file_extension": ".py",
   "mimetype": "text/x-python",
   "name": "python",
   "nbconvert_exporter": "python",
   "pygments_lexer": "ipython3",
   "version": "3.11.4"
  }
 },
 "nbformat": 4,
 "nbformat_minor": 2
}
